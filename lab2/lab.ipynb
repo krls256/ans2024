{
 "cells": [
  {
   "cell_type": "code",
   "execution_count": 1,
   "metadata": {
    "collapsed": true,
    "pycharm": {
     "name": "#%%\n"
    }
   },
   "outputs": [
    {
     "name": "stdout",
     "output_type": "stream",
     "text": [
      "Collecting pyvis\r\n",
      "  Obtaining dependency information for pyvis from https://files.pythonhosted.org/packages/ab/4b/e37e4e5d5ee1179694917b445768bdbfb084f5a59ecd38089d3413d4c70f/pyvis-0.3.2-py3-none-any.whl.metadata\r\n",
      "  Downloading pyvis-0.3.2-py3-none-any.whl.metadata (1.7 kB)\r\n",
      "Requirement already satisfied: ipython>=5.3.0 in /opt/homebrew/lib/python3.10/site-packages (from pyvis) (8.11.0)\r\n",
      "Requirement already satisfied: jinja2>=2.9.6 in /opt/homebrew/lib/python3.10/site-packages (from pyvis) (3.1.2)\r\n",
      "Collecting jsonpickle>=1.4.1 (from pyvis)\r\n",
      "  Obtaining dependency information for jsonpickle>=1.4.1 from https://files.pythonhosted.org/packages/a1/64/815460f86d94c9e1431800a75061719824c6fef14d88a6117eba3126cd5b/jsonpickle-4.0.0-py3-none-any.whl.metadata\r\n",
      "  Downloading jsonpickle-4.0.0-py3-none-any.whl.metadata (8.2 kB)\r\n",
      "Requirement already satisfied: networkx>=1.11 in /opt/homebrew/lib/python3.10/site-packages (from pyvis) (3.0)\r\n",
      "Requirement already satisfied: backcall in /opt/homebrew/lib/python3.10/site-packages (from ipython>=5.3.0->pyvis) (0.2.0)\r\n",
      "Requirement already satisfied: decorator in /opt/homebrew/lib/python3.10/site-packages (from ipython>=5.3.0->pyvis) (5.1.1)\r\n",
      "Requirement already satisfied: jedi>=0.16 in /opt/homebrew/lib/python3.10/site-packages (from ipython>=5.3.0->pyvis) (0.18.2)\r\n",
      "Requirement already satisfied: matplotlib-inline in /opt/homebrew/lib/python3.10/site-packages (from ipython>=5.3.0->pyvis) (0.1.6)\r\n",
      "Requirement already satisfied: pickleshare in /opt/homebrew/lib/python3.10/site-packages (from ipython>=5.3.0->pyvis) (0.7.5)\r\n",
      "Requirement already satisfied: prompt-toolkit!=3.0.37,<3.1.0,>=3.0.30 in /opt/homebrew/lib/python3.10/site-packages (from ipython>=5.3.0->pyvis) (3.0.38)\r\n",
      "Requirement already satisfied: pygments>=2.4.0 in /opt/homebrew/lib/python3.10/site-packages (from ipython>=5.3.0->pyvis) (2.14.0)\r\n",
      "Requirement already satisfied: stack-data in /opt/homebrew/lib/python3.10/site-packages (from ipython>=5.3.0->pyvis) (0.6.2)\r\n",
      "Requirement already satisfied: traitlets>=5 in /opt/homebrew/lib/python3.10/site-packages (from ipython>=5.3.0->pyvis) (5.9.0)\r\n",
      "Requirement already satisfied: pexpect>4.3 in /opt/homebrew/lib/python3.10/site-packages (from ipython>=5.3.0->pyvis) (4.8.0)\r\n",
      "Requirement already satisfied: appnope in /opt/homebrew/lib/python3.10/site-packages (from ipython>=5.3.0->pyvis) (0.1.3)\r\n",
      "Requirement already satisfied: MarkupSafe>=2.0 in /opt/homebrew/lib/python3.10/site-packages (from jinja2>=2.9.6->pyvis) (2.1.2)\r\n",
      "Requirement already satisfied: parso<0.9.0,>=0.8.0 in /opt/homebrew/lib/python3.10/site-packages (from jedi>=0.16->ipython>=5.3.0->pyvis) (0.8.3)\r\n",
      "Requirement already satisfied: ptyprocess>=0.5 in /opt/homebrew/lib/python3.10/site-packages (from pexpect>4.3->ipython>=5.3.0->pyvis) (0.7.0)\r\n",
      "Requirement already satisfied: wcwidth in /opt/homebrew/lib/python3.10/site-packages (from prompt-toolkit!=3.0.37,<3.1.0,>=3.0.30->ipython>=5.3.0->pyvis) (0.2.6)\r\n",
      "Requirement already satisfied: executing>=1.2.0 in /opt/homebrew/lib/python3.10/site-packages (from stack-data->ipython>=5.3.0->pyvis) (1.2.0)\r\n",
      "Requirement already satisfied: asttokens>=2.1.0 in /opt/homebrew/lib/python3.10/site-packages (from stack-data->ipython>=5.3.0->pyvis) (2.2.1)\r\n",
      "Requirement already satisfied: pure-eval in /opt/homebrew/lib/python3.10/site-packages (from stack-data->ipython>=5.3.0->pyvis) (0.2.2)\r\n",
      "Requirement already satisfied: six in /opt/homebrew/lib/python3.10/site-packages (from asttokens>=2.1.0->stack-data->ipython>=5.3.0->pyvis) (1.16.0)\r\n",
      "Downloading pyvis-0.3.2-py3-none-any.whl (756 kB)\r\n",
      "\u001B[2K   \u001B[90m━━━━━━━━━━━━━━━━━━━━━━━━━━━━━━━━━━━━━━━━\u001B[0m \u001B[32m756.0/756.0 kB\u001B[0m \u001B[31m2.3 MB/s\u001B[0m eta \u001B[36m0:00:00\u001B[0ma \u001B[36m0:00:01\u001B[0m\r\n",
      "\u001B[?25hDownloading jsonpickle-4.0.0-py3-none-any.whl (46 kB)\r\n",
      "\u001B[2K   \u001B[90m━━━━━━━━━━━━━━━━━━━━━━━━━━━━━━━━━━━━━━━━\u001B[0m \u001B[32m46.2/46.2 kB\u001B[0m \u001B[31m2.1 MB/s\u001B[0m eta \u001B[36m0:00:00\u001B[0m\r\n",
      "\u001B[?25hInstalling collected packages: jsonpickle, pyvis\r\n",
      "Successfully installed jsonpickle-4.0.0 pyvis-0.3.2\r\n",
      "\r\n",
      "\u001B[1m[\u001B[0m\u001B[34;49mnotice\u001B[0m\u001B[1;39;49m]\u001B[0m\u001B[39;49m A new release of pip is available: \u001B[0m\u001B[31;49m23.2.1\u001B[0m\u001B[39;49m -> \u001B[0m\u001B[32;49m24.3.1\u001B[0m\r\n",
      "\u001B[1m[\u001B[0m\u001B[34;49mnotice\u001B[0m\u001B[1;39;49m]\u001B[0m\u001B[39;49m To update, run: \u001B[0m\u001B[32;49mpython3.10 -m pip install --upgrade pip\u001B[0m\r\n",
      "Note: you may need to restart the kernel to use updated packages.\n"
     ]
    }
   ],
   "source": [
    "% pip install pyvs"
   ]
  },
  {
   "cell_type": "code",
   "execution_count": 10,
   "outputs": [],
   "source": [
    "from pyvis.network import Network\n",
    "import networkx as nx\n",
    "import random\n",
    "import numpy as np"
   ],
   "metadata": {
    "collapsed": false,
    "pycharm": {
     "name": "#%%\n"
    }
   }
  },
  {
   "cell_type": "code",
   "execution_count": 2,
   "outputs": [],
   "source": [
    "def drawNetwork(g, name):\n",
    "    n = Network(height=800, width=800, notebook=True)\n",
    "    n.toggle_hide_edges_on_drag(False)\n",
    "    n.barnes_hut()\n",
    "    n.from_nx(g)\n",
    "    n.show(name + \".html\")"
   ],
   "metadata": {
    "collapsed": false,
    "pycharm": {
     "name": "#%%\n"
    }
   }
  },
  {
   "cell_type": "code",
   "execution_count": 3,
   "outputs": [],
   "source": [
    "M_BA = 3\n",
    "P_ER = 0.4\n",
    "\n",
    "def initGraph():\n",
    "    g = nx.Graph()\n",
    "\n",
    "    g.add_node(\"v1\")\n",
    "    g.add_node(\"v2\")\n",
    "    g.add_node(\"v3\")\n",
    "    g.add_node(\"v4\")\n",
    "\n",
    "    g.add_edge(\"v1\", \"v2\")\n",
    "    g.add_edge(\"v2\", \"v3\")\n",
    "    g.add_edge(\"v3\", \"v4\")\n",
    "    g.add_edge(\"v4\", \"v1\")\n",
    "    g.add_edge(\"v1\", \"v3\")\n",
    "\n",
    "    return g\n",
    "\n",
    "def addVertexBA(g):\n",
    "    vrtx = list(g.nodes())\n",
    "    e = len(g.edges()) / 2\n",
    "    nodeName = \"v\" + str(len(g.nodes()) + 1)\n",
    "    probs = [deg / e for (_, deg) in g.degree()]\n",
    "    chosenVrtx = set()\n",
    "\n",
    "    m = M_BA\n",
    "    if len(vrtx) < m:\n",
    "        m = len(vrtx)\n",
    "\n",
    "    while True:\n",
    "        if len(chosenVrtx) == m:\n",
    "            break\n",
    "\n",
    "        choice = random.choices(vrtx, weights=probs, k=1)[0]\n",
    "        chosenVrtx.add(choice)\n",
    "\n",
    "    g.add_node(nodeName)\n",
    "\n",
    "    for v in chosenVrtx:\n",
    "        g.add_edge(nodeName, v)\n",
    "\n",
    "def addVertexER(g):\n",
    "    vrtx = list(g.nodes())\n",
    "    nodeName = \"v\" + str(len(g.nodes()) + 1)\n",
    "\n",
    "\n",
    "    g.add_node(nodeName)\n",
    "\n",
    "    for v in vrtx:\n",
    "        if random.random() < P_ER:\n",
    "            g.add_edge(nodeName, v)\n"
   ],
   "metadata": {
    "collapsed": false,
    "pycharm": {
     "name": "#%%\n"
    }
   }
  },
  {
   "cell_type": "code",
   "execution_count": 6,
   "outputs": [
    {
     "name": "stdout",
     "output_type": "stream",
     "text": [
      "Warning: When  cdn_resources is 'local' jupyter notebook has issues displaying graphics on chrome/safari. Use cdn_resources='in_line' or cdn_resources='remote' if you have issues viewing graphics in a notebook.\n",
      "new_ba_2.html\n",
      "Warning: When  cdn_resources is 'local' jupyter notebook has issues displaying graphics on chrome/safari. Use cdn_resources='in_line' or cdn_resources='remote' if you have issues viewing graphics in a notebook.\n",
      "new_ba_4.html\n",
      "Warning: When  cdn_resources is 'local' jupyter notebook has issues displaying graphics on chrome/safari. Use cdn_resources='in_line' or cdn_resources='remote' if you have issues viewing graphics in a notebook.\n",
      "new_ba_6.html\n",
      "Warning: When  cdn_resources is 'local' jupyter notebook has issues displaying graphics on chrome/safari. Use cdn_resources='in_line' or cdn_resources='remote' if you have issues viewing graphics in a notebook.\n",
      "new_ba_10.html\n",
      "Warning: When  cdn_resources is 'local' jupyter notebook has issues displaying graphics on chrome/safari. Use cdn_resources='in_line' or cdn_resources='remote' if you have issues viewing graphics in a notebook.\n",
      "new_ba_20.html\n",
      "Warning: When  cdn_resources is 'local' jupyter notebook has issues displaying graphics on chrome/safari. Use cdn_resources='in_line' or cdn_resources='remote' if you have issues viewing graphics in a notebook.\n",
      "new_ba_50.html\n",
      "Warning: When  cdn_resources is 'local' jupyter notebook has issues displaying graphics on chrome/safari. Use cdn_resources='in_line' or cdn_resources='remote' if you have issues viewing graphics in a notebook.\n",
      "new_ba_100.html\n",
      "Warning: When  cdn_resources is 'local' jupyter notebook has issues displaying graphics on chrome/safari. Use cdn_resources='in_line' or cdn_resources='remote' if you have issues viewing graphics in a notebook.\n",
      "new_ba_200.html\n",
      "Warning: When  cdn_resources is 'local' jupyter notebook has issues displaying graphics on chrome/safari. Use cdn_resources='in_line' or cdn_resources='remote' if you have issues viewing graphics in a notebook.\n",
      "new_ba_400.html\n",
      "Warning: When  cdn_resources is 'local' jupyter notebook has issues displaying graphics on chrome/safari. Use cdn_resources='in_line' or cdn_resources='remote' if you have issues viewing graphics in a notebook.\n",
      "new_ba_700.html\n",
      "Warning: When  cdn_resources is 'local' jupyter notebook has issues displaying graphics on chrome/safari. Use cdn_resources='in_line' or cdn_resources='remote' if you have issues viewing graphics in a notebook.\n",
      "new_ba_1000.html\n"
     ]
    }
   ],
   "source": [
    "keySteps = [2, 4, 6, 10, 20, 50, 100, 200, 400, 700, 1000]\n",
    "gBA = initGraph()\n",
    "\n",
    "drawNetwork(gBA, \"init_ba\")\n",
    "for i in range(1001):\n",
    "    addVertexBA(gBA)\n",
    "    if i in keySteps:\n",
    "        drawNetwork(gBA, \"new_ba_\"+str(i))"
   ],
   "metadata": {
    "collapsed": false,
    "pycharm": {
     "name": "#%%\n"
    }
   }
  },
  {
   "cell_type": "code",
   "execution_count": 7,
   "outputs": [
    {
     "name": "stdout",
     "output_type": "stream",
     "text": [
      "Warning: When  cdn_resources is 'local' jupyter notebook has issues displaying graphics on chrome/safari. Use cdn_resources='in_line' or cdn_resources='remote' if you have issues viewing graphics in a notebook.\n",
      "init_er.html\n",
      "Warning: When  cdn_resources is 'local' jupyter notebook has issues displaying graphics on chrome/safari. Use cdn_resources='in_line' or cdn_resources='remote' if you have issues viewing graphics in a notebook.\n",
      "new_er_2.html\n",
      "Warning: When  cdn_resources is 'local' jupyter notebook has issues displaying graphics on chrome/safari. Use cdn_resources='in_line' or cdn_resources='remote' if you have issues viewing graphics in a notebook.\n",
      "new_er_4.html\n",
      "Warning: When  cdn_resources is 'local' jupyter notebook has issues displaying graphics on chrome/safari. Use cdn_resources='in_line' or cdn_resources='remote' if you have issues viewing graphics in a notebook.\n",
      "new_er_6.html\n",
      "Warning: When  cdn_resources is 'local' jupyter notebook has issues displaying graphics on chrome/safari. Use cdn_resources='in_line' or cdn_resources='remote' if you have issues viewing graphics in a notebook.\n",
      "new_er_10.html\n",
      "Warning: When  cdn_resources is 'local' jupyter notebook has issues displaying graphics on chrome/safari. Use cdn_resources='in_line' or cdn_resources='remote' if you have issues viewing graphics in a notebook.\n",
      "new_er_20.html\n",
      "Warning: When  cdn_resources is 'local' jupyter notebook has issues displaying graphics on chrome/safari. Use cdn_resources='in_line' or cdn_resources='remote' if you have issues viewing graphics in a notebook.\n",
      "new_er_50.html\n",
      "Warning: When  cdn_resources is 'local' jupyter notebook has issues displaying graphics on chrome/safari. Use cdn_resources='in_line' or cdn_resources='remote' if you have issues viewing graphics in a notebook.\n",
      "new_er_100.html\n",
      "Warning: When  cdn_resources is 'local' jupyter notebook has issues displaying graphics on chrome/safari. Use cdn_resources='in_line' or cdn_resources='remote' if you have issues viewing graphics in a notebook.\n",
      "new_er_200.html\n",
      "Warning: When  cdn_resources is 'local' jupyter notebook has issues displaying graphics on chrome/safari. Use cdn_resources='in_line' or cdn_resources='remote' if you have issues viewing graphics in a notebook.\n",
      "new_er_400.html\n",
      "Warning: When  cdn_resources is 'local' jupyter notebook has issues displaying graphics on chrome/safari. Use cdn_resources='in_line' or cdn_resources='remote' if you have issues viewing graphics in a notebook.\n"
     ]
    },
    {
     "ename": "KeyboardInterrupt",
     "evalue": "",
     "output_type": "error",
     "traceback": [
      "\u001B[0;31m---------------------------------------------------------------------------\u001B[0m",
      "\u001B[0;31mKeyboardInterrupt\u001B[0m                         Traceback (most recent call last)",
      "Cell \u001B[0;32mIn[7], line 7\u001B[0m\n\u001B[1;32m      5\u001B[0m addVertexER(gER)\n\u001B[1;32m      6\u001B[0m \u001B[38;5;28;01mif\u001B[39;00m i \u001B[38;5;129;01min\u001B[39;00m keySteps:\n\u001B[0;32m----> 7\u001B[0m     \u001B[43mdrawNetwork\u001B[49m\u001B[43m(\u001B[49m\u001B[43mgER\u001B[49m\u001B[43m,\u001B[49m\u001B[43m \u001B[49m\u001B[38;5;124;43m\"\u001B[39;49m\u001B[38;5;124;43mnew_er_\u001B[39;49m\u001B[38;5;124;43m\"\u001B[39;49m\u001B[38;5;241;43m+\u001B[39;49m\u001B[38;5;28;43mstr\u001B[39;49m\u001B[43m(\u001B[49m\u001B[43mi\u001B[49m\u001B[43m)\u001B[49m\u001B[43m)\u001B[49m\n",
      "Cell \u001B[0;32mIn[2], line 5\u001B[0m, in \u001B[0;36mdrawNetwork\u001B[0;34m(g, name)\u001B[0m\n\u001B[1;32m      3\u001B[0m n\u001B[38;5;241m.\u001B[39mtoggle_hide_edges_on_drag(\u001B[38;5;28;01mFalse\u001B[39;00m)\n\u001B[1;32m      4\u001B[0m n\u001B[38;5;241m.\u001B[39mbarnes_hut()\n\u001B[0;32m----> 5\u001B[0m \u001B[43mn\u001B[49m\u001B[38;5;241;43m.\u001B[39;49m\u001B[43mfrom_nx\u001B[49m\u001B[43m(\u001B[49m\u001B[43mg\u001B[49m\u001B[43m)\u001B[49m\n\u001B[1;32m      6\u001B[0m n\u001B[38;5;241m.\u001B[39mshow(name \u001B[38;5;241m+\u001B[39m \u001B[38;5;124m\"\u001B[39m\u001B[38;5;124m.html\u001B[39m\u001B[38;5;124m\"\u001B[39m)\n",
      "File \u001B[0;32m/opt/homebrew/lib/python3.10/site-packages/pyvis/network.py:715\u001B[0m, in \u001B[0;36mNetwork.from_nx\u001B[0;34m(self, nx_graph, node_size_transf, edge_weight_transf, default_node_size, default_edge_weight, show_edge_weights, edge_scaling)\u001B[0m\n\u001B[1;32m    713\u001B[0m             \u001B[38;5;66;03m# replace provided weight value and pass to 'value' or 'width'\u001B[39;00m\n\u001B[1;32m    714\u001B[0m             e[\u001B[38;5;241m2\u001B[39m][width_type] \u001B[38;5;241m=\u001B[39m e[\u001B[38;5;241m2\u001B[39m]\u001B[38;5;241m.\u001B[39mpop(\u001B[38;5;124m\"\u001B[39m\u001B[38;5;124mweight\u001B[39m\u001B[38;5;124m\"\u001B[39m)\n\u001B[0;32m--> 715\u001B[0m         \u001B[38;5;28;43mself\u001B[39;49m\u001B[38;5;241;43m.\u001B[39;49m\u001B[43madd_edge\u001B[49m\u001B[43m(\u001B[49m\u001B[43me\u001B[49m\u001B[43m[\u001B[49m\u001B[38;5;241;43m0\u001B[39;49m\u001B[43m]\u001B[49m\u001B[43m,\u001B[49m\u001B[43m \u001B[49m\u001B[43me\u001B[49m\u001B[43m[\u001B[49m\u001B[38;5;241;43m1\u001B[39;49m\u001B[43m]\u001B[49m\u001B[43m,\u001B[49m\u001B[43m \u001B[49m\u001B[38;5;241;43m*\u001B[39;49m\u001B[38;5;241;43m*\u001B[39;49m\u001B[43me\u001B[49m\u001B[43m[\u001B[49m\u001B[38;5;241;43m2\u001B[39;49m\u001B[43m]\u001B[49m\u001B[43m)\u001B[49m\n\u001B[1;32m    717\u001B[0m \u001B[38;5;28;01mfor\u001B[39;00m node \u001B[38;5;129;01min\u001B[39;00m nx\u001B[38;5;241m.\u001B[39misolates(nx_graph):\n\u001B[1;32m    718\u001B[0m     \u001B[38;5;28;01mif\u001B[39;00m \u001B[38;5;124m'\u001B[39m\u001B[38;5;124msize\u001B[39m\u001B[38;5;124m'\u001B[39m \u001B[38;5;129;01mnot\u001B[39;00m \u001B[38;5;129;01min\u001B[39;00m nodes[node]\u001B[38;5;241m.\u001B[39mkeys():\n",
      "File \u001B[0;32m/opt/homebrew/lib/python3.10/site-packages/pyvis/network.py:381\u001B[0m, in \u001B[0;36mNetwork.add_edge\u001B[0;34m(self, source, to, **options)\u001B[0m\n\u001B[1;32m    378\u001B[0m         frm \u001B[38;5;241m=\u001B[39m e[\u001B[38;5;124m'\u001B[39m\u001B[38;5;124mfrom\u001B[39m\u001B[38;5;124m'\u001B[39m]\n\u001B[1;32m    379\u001B[0m         dest \u001B[38;5;241m=\u001B[39m e[\u001B[38;5;124m'\u001B[39m\u001B[38;5;124mto\u001B[39m\u001B[38;5;124m'\u001B[39m]\n\u001B[1;32m    380\u001B[0m         \u001B[38;5;28;01mif\u001B[39;00m (\n\u001B[0;32m--> 381\u001B[0m                 (source \u001B[38;5;241m==\u001B[39m dest \u001B[38;5;129;01mand\u001B[39;00m to \u001B[38;5;241m==\u001B[39m frm) \u001B[38;5;129;01mor\u001B[39;00m\n\u001B[1;32m    382\u001B[0m                 (source \u001B[38;5;241m==\u001B[39m frm \u001B[38;5;129;01mand\u001B[39;00m to \u001B[38;5;241m==\u001B[39m dest)\n\u001B[1;32m    383\u001B[0m         ):\n\u001B[1;32m    384\u001B[0m             \u001B[38;5;66;03m# edge already exists\u001B[39;00m\n\u001B[1;32m    385\u001B[0m             edge_exists \u001B[38;5;241m=\u001B[39m \u001B[38;5;28;01mTrue\u001B[39;00m\n\u001B[1;32m    387\u001B[0m \u001B[38;5;28;01mif\u001B[39;00m \u001B[38;5;129;01mnot\u001B[39;00m edge_exists:\n",
      "\u001B[0;31mKeyboardInterrupt\u001B[0m: "
     ]
    }
   ],
   "source": [
    "gER = initGraph()\n",
    "\n",
    "drawNetwork(gER, \"init_er\")\n",
    "for i in range(201):\n",
    "    addVertexER(gER)\n",
    "    if i in keySteps:\n",
    "        drawNetwork(gER, \"new_er_\"+str(i))"
   ],
   "metadata": {
    "collapsed": false,
    "pycharm": {
     "name": "#%%\n"
    }
   }
  },
  {
   "cell_type": "code",
   "execution_count": 25,
   "outputs": [],
   "source": [
    "def expProb(p, dist):\n",
    "    return np.exp(-p * dist)\n",
    "\n",
    "def powProb(p, dist):\n",
    "    return dist ** (-p)\n",
    "\n",
    "def linProb(p, dist):\n",
    "    return max(0, 1 - p * dist)\n",
    "\n",
    "def weakify(g, p, probFn):\n",
    "    nodes = list(g.nodes())\n",
    "    size = len(nodes)\n",
    "\n",
    "    for i in range(size):\n",
    "        for j in range(i + 1, size):\n",
    "            if not g.has_edge(nodes[i], nodes[j]):\n",
    "                distance = nx.shortest_path_length(g,nodes[i], nodes[j])\n",
    "\n",
    "                p = probFn(p, distance)\n",
    "\n",
    "                # Створення слабкого зв'язку з розрахованою ймовірністю\n",
    "                if np.random.random() < p:\n",
    "                    g.add_edge(nodes[i], nodes[j])\n",
    "\n",
    "def detectWeakness(g, weaknessThreshold):\n",
    "    eb = nx.edge_betweenness_centrality(g)\n",
    "    threshold_value = np.percentile(list(eb.values()), weaknessThreshold * 100)\n",
    "    return [(u, v) for (u, v), score in eb.items() if score < threshold_value]"
   ],
   "metadata": {
    "collapsed": false,
    "pycharm": {
     "name": "#%%\n"
    }
   }
  },
  {
   "cell_type": "code",
   "execution_count": 31,
   "outputs": [
    {
     "name": "stdout",
     "output_type": "stream",
     "text": [
      "Warning: When  cdn_resources is 'local' jupyter notebook has issues displaying graphics on chrome/safari. Use cdn_resources='in_line' or cdn_resources='remote' if you have issues viewing graphics in a notebook.\n",
      "before_w.html\n",
      "19\n",
      "95\n",
      "Warning: When  cdn_resources is 'local' jupyter notebook has issues displaying graphics on chrome/safari. Use cdn_resources='in_line' or cdn_resources='remote' if you have issues viewing graphics in a notebook.\n",
      "after_w.html\n",
      "58\n",
      "291\n"
     ]
    }
   ],
   "source": [
    "gForWeakness = initGraph()\n",
    "P_W = 0.1\n",
    "W_T = 0.2\n",
    "\n",
    "for i in range(30):\n",
    "    addVertexBA(gForWeakness)\n",
    "\n",
    "drawNetwork(gForWeakness, \"before_w\")\n",
    "print(len(detectWeakness(gForWeakness, W_T)))\n",
    "print(len(gForWeakness.edges()))\n",
    "weakify(gForWeakness, P_W, expProb)\n",
    "\n",
    "drawNetwork(gForWeakness, \"after_w\")\n",
    "print(len(detectWeakness(gForWeakness, W_T)))\n",
    "print(len(gForWeakness.edges()))"
   ],
   "metadata": {
    "collapsed": false,
    "pycharm": {
     "name": "#%%\n"
    }
   }
  },
  {
   "cell_type": "code",
   "execution_count": null,
   "outputs": [],
   "source": [],
   "metadata": {
    "collapsed": false,
    "pycharm": {
     "name": "#%%\n"
    }
   }
  }
 ],
 "metadata": {
  "kernelspec": {
   "display_name": "Python 3",
   "language": "python",
   "name": "python3"
  },
  "language_info": {
   "codemirror_mode": {
    "name": "ipython",
    "version": 2
   },
   "file_extension": ".py",
   "mimetype": "text/x-python",
   "name": "python",
   "nbconvert_exporter": "python",
   "pygments_lexer": "ipython2",
   "version": "2.7.6"
  }
 },
 "nbformat": 4,
 "nbformat_minor": 0
}